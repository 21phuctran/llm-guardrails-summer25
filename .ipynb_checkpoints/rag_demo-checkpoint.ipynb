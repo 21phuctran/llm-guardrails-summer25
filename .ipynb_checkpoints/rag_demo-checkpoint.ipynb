{
 "cells": [
  {
   "cell_type": "markdown",
   "id": "c58b5b66-b77d-4025-a54c-4d4e336a2775",
   "metadata": {},
   "source": [
    "# Setup"
   ]
  },
  {
   "cell_type": "code",
   "execution_count": 13,
   "id": "a3084fa9-e63f-444d-8860-48ee87720058",
   "metadata": {
    "scrolled": true
   },
   "outputs": [],
   "source": [
    "import getpass\n",
    "import os\n",
    "from langchain.chat_models import init_chat_model\n",
    "from langchain_openai import OpenAIEmbeddings\n",
    "import faiss\n",
    "from langchain_community.docstore.in_memory import InMemoryDocstore\n",
    "from langchain_community.vectorstores import FAISS\n",
    "from langchain_community.document_loaders import PyPDFLoader\n",
    "from langchain_text_splitters import RecursiveCharacterTextSplitter\n",
    "from langchain_core.documents import Document\n",
    "from typing_extensions import List, TypedDict\n",
    "from langgraph.graph import START, StateGraph\n",
    "from IPython.display import Image, display\n",
    "from langchain_core.prompts import PromptTemplate\n",
    "import time, tiktoken, pandas as pd, datetime as dt, pathlib"
   ]
  },
  {
   "cell_type": "code",
   "execution_count": 2,
   "id": "0315815e-6abb-4fc9-9bdb-d956cec0a33a",
   "metadata": {},
   "outputs": [
    {
     "name": "stdin",
     "output_type": "stream",
     "text": [
      "Enter API key for LangSmith:  ········\n",
      "Enter API key for OpenAI:  ········\n"
     ]
    }
   ],
   "source": [
    "os.environ[\"LANGSMITH_TRACING\"] = \"true\"\n",
    "os.environ[\"LANGSMITH_API_KEY\"] = getpass.getpass(\"Enter API key for LangSmith: \")\n",
    "os.environ[\"OPENAI_API_KEY\"] = getpass.getpass(\"Enter API key for OpenAI: \")"
   ]
  },
  {
   "cell_type": "code",
   "execution_count": 34,
   "id": "ba95a40f-0336-4541-a710-bf903daa9593",
   "metadata": {},
   "outputs": [],
   "source": [
    "model = \"gpt-4o-mini\"\n",
    "llm = init_chat_model(model, model_provider=\"openai\")\n",
    "embeddings = OpenAIEmbeddings(model=\"text-embedding-3-large\")\n",
    "\n",
    "# all embeddings have the ssame fixed dimensions and each model uses its own architecture which outputs different vector length\n",
    "embedding_dim = len(embeddings.embed_query(\"hello world\")) \n",
    "# FAISS is a vector searcxh library that needs to know in advance how many numbers each vector will have\n",
    "index = faiss.IndexFlatL2(embedding_dim)\n",
    "\n",
    "# FAISS operate over flat arrays of vectors. They do not understand nested structure\n",
    "vector_store = FAISS(\n",
    "    embedding_function=embeddings,\n",
    "    index=index,\n",
    "    docstore=InMemoryDocstore(),\n",
    "    index_to_docstore_id={},\n",
    ")"
   ]
  },
  {
   "cell_type": "markdown",
   "id": "80efdd30-a543-473c-9be2-7e7c11f473d1",
   "metadata": {},
   "source": [
    "# Indexing"
   ]
  },
  {
   "cell_type": "markdown",
   "id": "465accc4-48b4-4312-ac2c-4e4c4778a3bb",
   "metadata": {},
   "source": [
    "## Splitting Documents"
   ]
  },
  {
   "cell_type": "code",
   "execution_count": 15,
   "id": "3756a0dc-a812-4088-94d1-3fee6267689e",
   "metadata": {},
   "outputs": [],
   "source": [
    "def load_pdfs(file_path):\n",
    "    loader = PyPDFLoader(file_path, mode=\"page\")\n",
    "    pages = []\n",
    "\n",
    "    for page in loader.load():\n",
    "        pages.append(page)    \n",
    "\n",
    "    # The textbook PDFs are natrually organized into hierarchical units such as paragraphs, sentences, and words\n",
    "    # RecursiveCharacterTextSplitter try to split the text in a natural and structured way\n",
    "    # Try split paragrah --> too long = split by sentence --> too long = split by word --> too long = split raw characters\n",
    "    # this allows each chunks to keep their semnantic meaning\n",
    "    text_splitter = RecursiveCharacterTextSplitter(chunk_size=1000, chunk_overlap=200) \n",
    "    # experiment with chunk_size and measuire retrieval accuracy, relevance of responses, speed/cost\n",
    "    # consider annotating each chunk with metadata such as filename, page_number, chapter for retrieval\n",
    "    splits = text_splitter.split_documents(pages)\n",
    "\n",
    "    return splits"
   ]
  },
  {
   "cell_type": "markdown",
   "id": "cd613c79-3d97-472b-9128-ebf102257e26",
   "metadata": {},
   "source": [
    "## Storing documents"
   ]
  },
  {
   "cell_type": "code",
   "execution_count": 16,
   "id": "937a6fc1-161b-4400-be36-e33c6f40d89c",
   "metadata": {},
   "outputs": [],
   "source": [
    "file_paths = [\"data/complexityprivacy_1.pdf\",\n",
    "            \"data/privacybook.pdf\"]\n",
    "\n",
    "for file_path in file_paths:\n",
    "    _ = vector_store.add_documents(load_pdfs(file_path))"
   ]
  },
  {
   "cell_type": "markdown",
   "id": "7fdfa36e-43b3-4480-bbaa-a7cce3137bf1",
   "metadata": {},
   "source": [
    "# Retrieval and Generation"
   ]
  },
  {
   "cell_type": "markdown",
   "id": "bed5f134-9edd-463b-9b98-4c3e11fb754a",
   "metadata": {},
   "source": [
    "## Application Logic"
   ]
  },
  {
   "cell_type": "code",
   "execution_count": 41,
   "id": "f37a9ac2-22b4-4bcf-a872-fdd491b53559",
   "metadata": {},
   "outputs": [],
   "source": [
    "class State(TypedDict):\n",
    "    question: str\n",
    "    context: List[Document]\n",
    "    answer: str\n",
    "\n",
    "def retrieve(state: State):\n",
    "    retrieved_docs = vector_store.similarity_search(state[\"question\"])\n",
    "    return {\"context\": retrieved_docs}\n",
    "\n",
    "def generate(state: State):\n",
    "    docs_content = \"\\n\\n\".join(doc.page_content for doc in state[\"context\"])\n",
    "    # generate prompt string from prompt object for token counting\n",
    "    prompt_string = prompt.format(context=docs_content, question=state[\"question\"])\n",
    "    \n",
    "    start = time.time()\n",
    "    encoding = tiktoken.encoding_for_model(model)\n",
    "    prompt_tokens = len(encoding.encode(prompt_string)) # encode needs a string object\n",
    "    \n",
    "    messages = prompt.invoke({\"question\": state[\"question\"], \"context\": docs_content})\n",
    "    response = llm.invoke(messages)\n",
    "    response_tokens = len(encoding.encode(response.content))\n",
    "    latency = time.time() - start\n",
    "    \n",
    "    log_row = {\n",
    "        \"timestamp\": dt.datetime.now().isoformat(),\n",
    "        \"query\": state[\"question\"],\n",
    "        \"response\": response.content,\n",
    "        \"prompt_tokens\": prompt_tokens,\n",
    "        \"response_tokens\": response_tokens,\n",
    "        \"total_tokens\": prompt_tokens + response_tokens,\n",
    "        \"latency_sec\": latency,\n",
    "        \"model\": \"gpt-4o-mini\",\n",
    "    }\n",
    "\n",
    "    log_path = pathlib.Path(\"logs.csv\")\n",
    "    pd.DataFrame([log_row]).to_csv(\"logs.csv\", mode=\"a\", index=False, header=not pathlib.Path(\"logs.csv\").exists())\n",
    "    \n",
    "    return {\"answer\": response.content}"
   ]
  },
  {
   "cell_type": "markdown",
   "id": "eef114c6-c076-4edf-a821-22e3a51afc4d",
   "metadata": {},
   "source": [
    "## Control Flow"
   ]
  },
  {
   "cell_type": "code",
   "execution_count": 42,
   "id": "819c6f23-5578-42c5-8737-d18fe1d9c723",
   "metadata": {},
   "outputs": [
    {
     "data": {
      "image/png": "[encoded data removed]",
      "text/plain": [
       "<IPython.core.display.Image object>"
      ]
     },
     "metadata": {},
     "output_type": "display_data"
    }
   ],
   "source": [
    "graph_builder = StateGraph(State).add_sequence([retrieve, generate])\n",
    "graph_builder.add_edge(START, \"retrieve\")\n",
    "graph = graph_builder.compile()\n",
    "\n",
    "\n",
    "display(Image(graph.get_graph().draw_mermaid_png()))"
   ]
  },
  {
   "cell_type": "markdown",
   "id": "f5760bf1-2310-4e1f-ae50-ed16c2853488",
   "metadata": {},
   "source": [
    "## Usage"
   ]
  },
  {
   "cell_type": "code",
   "execution_count": 43,
   "id": "a4a2f3e0-3833-4896-991f-db3c1c321d31",
   "metadata": {},
   "outputs": [],
   "source": [
    "template = \"\"\"\n",
    "Imagine you are an angry yet passionate professor who wants to encourage a failing and dumb student. Try to dumb things down as much as possible, but\n",
    "also make sure the student understand the context and fundamental behind the question being asked as well. Use the following pieces of context\n",
    "to answer the question at the end. If you don't know the answer, say you don't know, don't try to make up an answer. aLways say \"Man I need some coffee\"\n",
    "at the end of the answer.\n",
    "{context}\n",
    "\n",
    "Question: {question}\n",
    "\"\"\"\n",
    "\n",
    "prompt = PromptTemplate.from_template(template)"
   ]
  },
  {
   "cell_type": "code",
   "execution_count": 44,
   "id": "b9398887-fd82-4292-8ea8-0c39b771c6ee",
   "metadata": {},
   "outputs": [
    {
     "name": "stdout",
     "output_type": "stream",
     "text": [
      "{'retrieve': {'context': []}}\n",
      "\n",
      "----------------\n",
      "\n",
      "{'generate': {'answer': \"Alright, listen up! I know you might feel like you're in over your head, but I need you to focus. Differential privacy is a way to protect people's personal information while still being able to learn from data. Think of it like this: if you have a cookie recipe that you don’t want anyone to steal, you can still share a general idea of what’s in it without giving away the exact details.\\n\\nImagine you have a giant jar of cookies (that’s your data), and you want to tell your friend that there are cookies in it without letting them know exactly how many there are or what kinds. By adding a little 'noise'—like putting a few candy wrappers in the jar—you can make it so your friend can’t guess exactly how many cookies you have, but they still know there are cookies! \\n\\nIn more technical terms, differential privacy ensures that when someone looks at the data, they can’t figure out if a specific person’s data (like someone’s cookie preferences) is in there or not. This way, people can feel safe sharing their information.\\n\\nNow, this is super important because it helps companies and researchers get useful information without putting anyone's personal information at risk. \\n\\nSo, remember: it’s about sharing the goodness of data while keeping folks' secrets safe!\\n\\nMan, I need some coffee.\"}}\n",
      "\n",
      "----------------\n",
      "\n"
     ]
    }
   ],
   "source": [
    "for step in graph.stream(\n",
    "    {\"question\": \"What is differential Privacy?\"}, stream_mode=\"updates\",\n",
    "):\n",
    "    print(f\"{step}\\n\\n----------------\\n\")"
   ]
  },
  {
   "cell_type": "code",
   "execution_count": 45,
   "id": "890bfbb9-5cbd-416c-a7bb-d48e76b92a01",
   "metadata": {},
   "outputs": [
    {
     "name": "stdout",
     "output_type": "stream",
     "text": [
      "{'retrieve': {'context': []}}\n",
      "\n",
      "----------------\n",
      "\n",
      "{'generate': {'answer': 'Alright, listen up! I may be frustrated, but that doesn’t mean I don\\'t want you to get this. So, let’s break it down nice and simple. \\n\\nTextbook complexity privacy is all about keeping your data safe while making sure we can still use it for useful things. You know how when you want to know if someone is sick or not, but you don’t want to give away who they are? That’s kind of what we’re doing here!\\n\\nWhen we talk about \"complexity,\" we’re looking at how hard it is to keep things private while processing information. Think of it like trying to bake a cake while also making sure nobody sees the secret recipe – it has to be done just right!\\n\\nWe want systems that can give us the information we need without revealing personal information. Complexity comes into play because it gets tricky! The more complicated something is, the harder it is to keep it private without messing things up. \\n\\nSo, in simple terms: textbook complexity privacy is about balancing using information and protecting people\\'s identities. It’s like walking a tightrope while juggling! You gotta be careful so you don’t fall!\\n\\nMan, I need some coffee!'}}\n",
      "\n",
      "----------------\n",
      "\n"
     ]
    }
   ],
   "source": [
    "for step in graph.stream(\n",
    "    {\"question\": \"What is textbook complexity privacy about?\"}, stream_mode=\"updates\",\n",
    "):\n",
    "    print(f\"{step}\\n\\n----------------\\n\")"
   ]
  },
  {
   "cell_type": "code",
   "execution_count": null,
   "id": "dae8a044-3111-4db4-bdd2-5bae9345ae79",
   "metadata": {},
   "outputs": [],
   "source": []
  }
 ],
 "metadata": {
  "kernelspec": {
   "display_name": "Python 3 (ipykernel)",
   "language": "python",
   "name": "python3"
  },
  "language_info": {
   "codemirror_mode": {
    "name": "ipython",
    "version": 3
   },
   "file_extension": ".py",
   "mimetype": "text/x-python",
   "name": "python",
   "nbconvert_exporter": "python",
   "pygments_lexer": "ipython3",
   "version": "3.10.18"
  }
 },
 "nbformat": 4,
 "nbformat_minor": 5
}
