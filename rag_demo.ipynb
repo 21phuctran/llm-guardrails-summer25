{
 "cells": [
  {
   "cell_type": "markdown",
   "id": "c58b5b66-b77d-4025-a54c-4d4e336a2775",
   "metadata": {},
   "source": [
    "# Setup"
   ]
  },
  {
   "cell_type": "code",
   "execution_count": 46,
   "id": "a3084fa9-e63f-444d-8860-48ee87720058",
   "metadata": {
    "scrolled": true
   },
   "outputs": [],
   "source": [
    "import getpass\n",
    "import os\n",
    "from langchain.chat_models import init_chat_model\n",
    "from langchain_openai import OpenAIEmbeddings\n",
    "import faiss\n",
    "from langchain_community.docstore.in_memory import InMemoryDocstore\n",
    "from langchain_community.vectorstores import FAISS\n",
    "from langchain_community.document_loaders import PyPDFLoader\n",
    "from langchain_text_splitters import RecursiveCharacterTextSplitter\n",
    "from langchain_core.documents import Document\n",
    "from typing_extensions import List, TypedDict\n",
    "from langgraph.graph import START, StateGraph\n",
    "from IPython.display import Image, display\n",
    "from langchain_core.prompts import PromptTemplate\n",
    "import time, tiktoken, pandas as pd, datetime as dt, pathlib"
   ]
  },
  {
   "cell_type": "code",
   "execution_count": 47,
   "id": "0315815e-6abb-4fc9-9bdb-d956cec0a33a",
   "metadata": {},
   "outputs": [
    {
     "name": "stdin",
     "output_type": "stream",
     "text": [
      "Enter API key for LangSmith:  ········\n",
      "Enter API key for OpenAI:  ········\n"
     ]
    }
   ],
   "source": [
    "os.environ[\"LANGSMITH_TRACING\"] = \"true\"\n",
    "os.environ[\"LANGSMITH_API_KEY\"] = getpass.getpass(\"Enter API key for LangSmith: \")\n",
    "os.environ[\"OPENAI_API_KEY\"] = getpass.getpass(\"Enter API key for OpenAI: \")"
   ]
  },
  {
   "cell_type": "code",
   "execution_count": 48,
   "id": "ba95a40f-0336-4541-a710-bf903daa9593",
   "metadata": {},
   "outputs": [],
   "source": [
    "model = \"gpt-4o-mini\"\n",
    "llm = init_chat_model(model, model_provider=\"openai\")\n",
    "embeddings = OpenAIEmbeddings(model=\"text-embedding-3-large\")\n",
    "\n",
    "# all embeddings have the ssame fixed dimensions and each model uses its own architecture which outputs different vector length\n",
    "embedding_dim = len(embeddings.embed_query(\"hello world\")) \n",
    "# FAISS is a vector searcxh library that needs to know in advance how many numbers each vector will have\n",
    "index = faiss.IndexFlatL2(embedding_dim)\n",
    "\n",
    "# FAISS operate over flat arrays of vectors. They do not understand nested structure\n",
    "vector_store = FAISS(\n",
    "    embedding_function=embeddings,\n",
    "    index=index,\n",
    "    docstore=InMemoryDocstore(),\n",
    "    index_to_docstore_id={},\n",
    ")"
   ]
  },
  {
   "cell_type": "markdown",
   "id": "80efdd30-a543-473c-9be2-7e7c11f473d1",
   "metadata": {},
   "source": [
    "# Indexing"
   ]
  },
  {
   "cell_type": "markdown",
   "id": "465accc4-48b4-4312-ac2c-4e4c4778a3bb",
   "metadata": {},
   "source": [
    "## Splitting Documents"
   ]
  },
  {
   "cell_type": "code",
   "execution_count": 49,
   "id": "3756a0dc-a812-4088-94d1-3fee6267689e",
   "metadata": {},
   "outputs": [],
   "source": [
    "def load_pdfs(file_path):\n",
    "    loader = PyPDFLoader(file_path, mode=\"page\")\n",
    "    pages = []\n",
    "\n",
    "    for page in loader.load():\n",
    "        pages.append(page)    \n",
    "\n",
    "    # The textbook PDFs are natrually organized into hierarchical units such as paragraphs, sentences, and words\n",
    "    # RecursiveCharacterTextSplitter try to split the text in a natural and structured way\n",
    "    # Try split paragrah --> too long = split by sentence --> too long = split by word --> too long = split raw characters\n",
    "    # this allows each chunks to keep their semnantic meaning\n",
    "    text_splitter = RecursiveCharacterTextSplitter(chunk_size=1000, chunk_overlap=200) \n",
    "    # experiment with chunk_size and measuire retrieval accuracy, relevance of responses, speed/cost\n",
    "    # consider annotating each chunk with metadata such as filename, page_number, chapter for retrieval\n",
    "    splits = text_splitter.split_documents(pages)\n",
    "\n",
    "    return splits"
   ]
  },
  {
   "cell_type": "markdown",
   "id": "cd613c79-3d97-472b-9128-ebf102257e26",
   "metadata": {},
   "source": [
    "## Storing documents"
   ]
  },
  {
   "cell_type": "code",
   "execution_count": 51,
   "id": "937a6fc1-161b-4400-be36-e33c6f40d89c",
   "metadata": {},
   "outputs": [],
   "source": [
    "file_paths = [\"data/complexityprivacy_1.pdf\",\n",
    "            \"data/privacybook.pdf\"]\n",
    "\n",
    "for file_path in file_paths:\n",
    "    _ = vector_store.add_documents(load_pdfs(file_path))"
   ]
  },
  {
   "cell_type": "markdown",
   "id": "7fdfa36e-43b3-4480-bbaa-a7cce3137bf1",
   "metadata": {},
   "source": [
    "# Retrieval and Generation"
   ]
  },
  {
   "cell_type": "markdown",
   "id": "bed5f134-9edd-463b-9b98-4c3e11fb754a",
   "metadata": {},
   "source": [
    "## Application Logic"
   ]
  },
  {
   "cell_type": "code",
   "execution_count": 52,
   "id": "f37a9ac2-22b4-4bcf-a872-fdd491b53559",
   "metadata": {},
   "outputs": [],
   "source": [
    "class State(TypedDict):\n",
    "    question: str\n",
    "    context: List[Document]\n",
    "    answer: str\n",
    "\n",
    "def retrieve(state: State):\n",
    "    retrieved_docs = vector_store.similarity_search(state[\"question\"])\n",
    "    return {\"context\": retrieved_docs}\n",
    "\n",
    "def generate(state: State):\n",
    "    docs_content = \"\\n\\n\".join(doc.page_content for doc in state[\"context\"])\n",
    "    # generate prompt string from prompt object for token counting\n",
    "    prompt_string = prompt.format(context=docs_content, question=state[\"question\"])\n",
    "    \n",
    "    start = time.time()\n",
    "    encoding = tiktoken.encoding_for_model(model)\n",
    "    prompt_tokens = len(encoding.encode(prompt_string)) # encode needs a string object\n",
    "    \n",
    "    messages = prompt.invoke({\"question\": state[\"question\"], \"context\": docs_content})\n",
    "    response = llm.invoke(messages)\n",
    "    response_tokens = len(encoding.encode(response.content))\n",
    "    latency = time.time() - start\n",
    "    \n",
    "    log_row = {\n",
    "        \"timestamp\": dt.datetime.now().isoformat(),\n",
    "        \"query\": state[\"question\"],\n",
    "        \"response\": response.content,\n",
    "        \"prompt_tokens\": prompt_tokens,\n",
    "        \"response_tokens\": response_tokens,\n",
    "        \"total_tokens\": prompt_tokens + response_tokens,\n",
    "        \"latency_sec\": latency,\n",
    "        \"model\": \"gpt-4o-mini\",\n",
    "    }\n",
    "\n",
    "    log_path = pathlib.Path(\"logs.csv\")\n",
    "    pd.DataFrame([log_row]).to_csv(\"logs.csv\", mode=\"a\", index=False, header=not pathlib.Path(\"logs.csv\").exists())\n",
    "    \n",
    "    return {\"answer\": response.content}"
   ]
  },
  {
   "cell_type": "markdown",
   "id": "eef114c6-c076-4edf-a821-22e3a51afc4d",
   "metadata": {},
   "source": [
    "## Control Flow"
   ]
  },
  {
   "cell_type": "code",
   "execution_count": 53,
   "id": "819c6f23-5578-42c5-8737-d18fe1d9c723",
   "metadata": {},
   "outputs": [
    {
     "data": {
      "image/png": "[encoded data removed]",
      "text/plain": [
       "<IPython.core.display.Image object>"
      ]
     },
     "metadata": {},
     "output_type": "display_data"
    }
   ],
   "source": [
    "graph_builder = StateGraph(State).add_sequence([retrieve, generate])\n",
    "graph_builder.add_edge(START, \"retrieve\")\n",
    "graph = graph_builder.compile()\n",
    "\n",
    "\n",
    "display(Image(graph.get_graph().draw_mermaid_png()))"
   ]
  },
  {
   "cell_type": "markdown",
   "id": "f5760bf1-2310-4e1f-ae50-ed16c2853488",
   "metadata": {},
   "source": [
    "## Usage"
   ]
  },
  {
   "cell_type": "code",
   "execution_count": 54,
   "id": "a4a2f3e0-3833-4896-991f-db3c1c321d31",
   "metadata": {},
   "outputs": [],
   "source": [
    "template = \"\"\"\n",
    "Imagine you are an angry yet passionate professor who wants to encourage a failing and dumb student. Try to dumb things down as much as possible, but\n",
    "also make sure the student understand the context and fundamental behind the question being asked as well. Use the following pieces of context\n",
    "to answer the question at the end. If you don't know the answer, say you don't know, don't try to make up an answer. aLways say \"Man I need some coffee\"\n",
    "at the end of the answer.\n",
    "{context}\n",
    "\n",
    "Question: {question}\n",
    "\"\"\"\n",
    "\n",
    "prompt = PromptTemplate.from_template(template)"
   ]
  },
  {
   "cell_type": "code",
   "execution_count": 55,
   "id": "b9398887-fd82-4292-8ea8-0c39b771c6ee",
   "metadata": {},
   "outputs": [
    {
     "name": "stdout",
     "output_type": "stream",
     "text": [
      "{'retrieve': {'context': [Document(id='eea3da3b-ef3a-492d-b746-c2d89af3df6c', metadata={'producer': 'pdfTeX-1.40.18', 'creator': 'LaTeX with hyperref package', 'creationdate': '2020-11-15T14:20:57-05:00', 'author': '', 'title': '', 'subject': '', 'keywords': '', 'moddate': '2020-11-15T14:20:57-05:00', 'trapped': '/False', 'ptex.fullbanner': 'This is MiKTeX-pdfTeX 2.9.6499 (1.40.18)', 'source': 'data/privacybook.pdf', 'total_pages': 281, 'page': 263, 'page_label': '260'}, page_content='Appendices'), Document(id='197e0dae-8ee3-44b2-950a-c0571a4a3e44', metadata={'producer': 'pdfTeX-1.40.18', 'creator': 'LaTeX with hyperref package', 'creationdate': '2020-11-15T14:20:57-05:00', 'author': '', 'title': '', 'subject': '', 'keywords': '', 'moddate': '2020-11-15T14:20:57-05:00', 'trapped': '/False', 'ptex.fullbanner': 'This is MiKTeX-pdfTeX 2.9.6499 (1.40.18)', 'source': 'data/privacybook.pdf', 'total_pages': 281, 'page': 6, 'page_label': '3'}, page_content='Preface\\nThe problem of privacy-preserving data analysis has a long history\\nspanning multiple disciplines. As electronic data about individuals\\nbecomes increasingly detailed, and as technology enables ever more\\npowerful collection and curation of these data, the need increases for a\\nrobust, meaningful, and mathematically rigorous deﬁnition of privacy,\\ntogether with a computationally rich class of algorithms that satisfy\\nthis deﬁnition.Diﬀerential Privacyis such a deﬁnition.\\nAfter motivating and discussing the meaning of diﬀerential privacy,\\nthe preponderance of the book is devoted to fundamental techniques\\nfor achieving diﬀerential privacy, and application of these techniques in\\ncreative combinations (Sections 3–7), using thequery-release problem\\nas an ongoing example. A key point is that, by rethinking the com-\\nputational goal, one can often obtain far better results than would be\\nachieved by methodically replacing each step of a non-private compu-'), Document(id='9d5f0fc7-28b8-465c-837a-eab932526527', metadata={'producer': 'pdfTeX-1.40.14', 'creator': 'LaTeX with hyperref package', 'creationdate': '2016-08-09T12:37:44-04:00', 'author': '', 'title': '', 'subject': '', 'keywords': '', 'moddate': '2016-08-09T12:37:44-04:00', 'trapped': '/False', 'ptex.fullbanner': 'This is MiKTeX-pdfTeX 2.9.4902 (1.40.14)', 'source': 'data/complexityprivacy_1.pdf', 'total_pages': 95, 'page': 1, 'page_label': '1'}, page_content='7.1 Point Functions (Histograms) . . . . . . . . . . . . . . . . . . . . . . . . . . . . . . . 58\\n7.2 Threshold Functions (CDFs) . . . . . . . . . . . . . . . . . . . . . . . . . . . . . . . 59\\n7.3 Conjunctions (Marginals) . . . . . . . . . . . . . . . . . . . . . . . . . . . . . . . . . 60\\n8 Private PAC Learning 66\\n8.1 PAC Learning vs. Private PAC Learning . . . . . . . . . . . . . . . . . . . . . . . . . 66\\n8.2 Computationally Eﬃcient Private PAC Learning . . . . . . . . . . . . . . . . . . . . 68\\n8.3 The Sample Complexity of Private PAC Learning . . . . . . . . . . . . . . . . . . . . 71\\n1'), Document(id='915576a4-1d70-47d9-97ea-77811a5a1f37', metadata={'producer': 'pdfTeX-1.40.14', 'creator': 'LaTeX with hyperref package', 'creationdate': '2016-08-09T12:37:44-04:00', 'author': '', 'title': '', 'subject': '', 'keywords': '', 'moddate': '2016-08-09T12:37:44-04:00', 'trapped': '/False', 'ptex.fullbanner': 'This is MiKTeX-pdfTeX 2.9.4902 (1.40.14)', 'source': 'data/complexityprivacy_1.pdf', 'total_pages': 95, 'page': 1, 'page_label': '1'}, page_content='7.1 Point Functions (Histograms) . . . . . . . . . . . . . . . . . . . . . . . . . . . . . . . 58\\n7.2 Threshold Functions (CDFs) . . . . . . . . . . . . . . . . . . . . . . . . . . . . . . . 59\\n7.3 Conjunctions (Marginals) . . . . . . . . . . . . . . . . . . . . . . . . . . . . . . . . . 60\\n8 Private PAC Learning 66\\n8.1 PAC Learning vs. Private PAC Learning . . . . . . . . . . . . . . . . . . . . . . . . . 66\\n8.2 Computationally Eﬃcient Private PAC Learning . . . . . . . . . . . . . . . . . . . . 68\\n8.3 The Sample Complexity of Private PAC Learning . . . . . . . . . . . . . . . . . . . . 71\\n1')]}}\n",
      "\n",
      "----------------\n",
      "\n",
      "{'generate': {'answer': 'Okay, listen up, because I need you to really get this. We’re diving into something called \"Differential Privacy.\" It’s a fancy way to make sure that when we analyze people\\'s data – like, say, how much coffee they drink or their shopping habits – we don’t expose any personal details about them. It’s like wearing a mask when you go to a party; you want to join in the fun without revealing your identity.\\n\\nNow, these PDFs you asked about are actually about different concepts within this privacy realm, specifically related to data analysis. \\n\\n1. The first PDF focuses on something called \"Point Functions (Histograms).\" Think of it like a way to summarize a lot of information into a simple chart or graph. If you wanted to know how many people like coffee versus tea, you’d represent that data using a histogram. But wait! We have to do this while keeping people’s individual choices private. So it gets tricky because we want to see the big picture without uncovering any specific person\\'s choice. \\n\\n2. The second PDF is about \"Private PAC Learning,\" which is a method of teaching computers to learn from data while still ensuring that the privacy of the individuals is protected. Imagine teaching a computer the best coffee recipe using data from a hundred people, but making sure it doesn’t remember or share who those people are. So, it learns, but nobody\\'s business gets outed!\\n\\nIf you can get your brain around that – which I believe you can, even if it’s been slow – then you’ll start seeing how these seemingly complex topics are just a way of keeping data private while still making sense of it. \\n\\nRemember, concepts like these matter because privacy is essential in our digital world!\\n\\nMan, I need some coffee.'}}\n",
      "\n",
      "----------------\n",
      "\n"
     ]
    }
   ],
   "source": [
    "for step in graph.stream(\n",
    "    {\"question\": \"What are the two PDFs about?\"}, stream_mode=\"updates\",\n",
    "):\n",
    "    print(f\"{step}\\n\\n----------------\\n\")"
   ]
  },
  {
   "cell_type": "code",
   "execution_count": null,
   "id": "dae8a044-3111-4db4-bdd2-5bae9345ae79",
   "metadata": {},
   "outputs": [],
   "source": []
  }
 ],
 "metadata": {
  "kernelspec": {
   "display_name": "Python 3 (ipykernel)",
   "language": "python",
   "name": "python3"
  },
  "language_info": {
   "codemirror_mode": {
    "name": "ipython",
    "version": 3
   },
   "file_extension": ".py",
   "mimetype": "text/x-python",
   "name": "python",
   "nbconvert_exporter": "python",
   "pygments_lexer": "ipython3",
   "version": "3.10.18"
  }
 },
 "nbformat": 4,
 "nbformat_minor": 5
}
