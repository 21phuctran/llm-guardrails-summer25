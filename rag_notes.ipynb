{
 "cells": [
  {
   "cell_type": "markdown",
   "id": "8c803d77-1ffe-418c-b6be-a21e152818c9",
   "metadata": {},
   "source": [
    "# RAG has two main components:\n",
    "\n",
    "Indexing (offline) - prepping knowledge base. Takes raw data --> cleans and splits into chunks --> embeds each chunk into vectors using a model --> store these vectors in a vector database\n",
    "\n",
    "Retrieval and generation (online) - takes user query --> converts into vector embedding --> searches the prebuilt library for the most relevant chunks --> pass chunks along with original question to LLM --> model generates a response using both the question and retrivied context"
   ]
  },
  {
   "cell_type": "markdown",
   "id": "64cbe2c6-3d7f-4b69-a9e1-c55277f129d4",
   "metadata": {},
   "source": [
    "LangSmith is a tool that helps debug, trace, evaluate, and monitor LLM applications. It it essentially a developer console for LangChain apps"
   ]
  },
  {
   "cell_type": "code",
   "execution_count": 25,
   "id": "27719138-c270-4d82-b35a-650fd1b6f083",
   "metadata": {},
   "outputs": [
    {
     "name": "stdin",
     "output_type": "stream",
     "text": [
      " ········\n"
     ]
    }
   ],
   "source": [
    "import getpass\n",
    "import os\n",
    "\n",
    "os.environ[\"LANGSMITH_TRACING\"] = \"true\"\n",
    "os.environ[\"LANGSMITH_API_KEY\"] = getpass.getpass()"
   ]
  },
  {
   "cell_type": "markdown",
   "id": "4f38170d-31db-45a9-9e68-2dd82e264fea",
   "metadata": {},
   "source": [
    "## Components Set ups"
   ]
  },
  {
   "cell_type": "code",
   "execution_count": 33,
   "id": "af7329e0-eff5-4fde-9e12-07dbdc7bc0cb",
   "metadata": {},
   "outputs": [],
   "source": [
    "from langchain.chat_models import init_chat_model\n",
    "from langchain_openai import OpenAIEmbeddings\n",
    "from langchain_core.vectorstores import InMemoryVectorStore\n",
    "\n",
    "if not os.environ.get(\"OPENAI_API_KEY\"):\n",
    "  os.environ[\"OPENAI_API_KEY\"] = getpass.getpass(\"Enter API key for OpenAI: \")\n",
    "\n",
    "llm = init_chat_model(\"gpt-4o-mini\", model_provider=\"openai\")\n",
    "embeddings = OpenAIEmbeddings(model=\"text-embedding-3-large\")\n",
    "vector_store = InMemoryVectorStore(embeddings)"
   ]
  },
  {
   "cell_type": "markdown",
   "id": "5400b410-6315-4cf9-b9cc-7797cd80cc50",
   "metadata": {},
   "source": [
    "We will build an app that answer questions on the LLM Powered Autonomous Agents blog post by Lilian Weng"
   ]
  },
  {
   "cell_type": "markdown",
   "id": "754c1233-a93b-40e0-a38b-c9a11903a6c5",
   "metadata": {},
   "source": [
    "# 1. Indexing\n",
    "\n",
    "DocumentLoader - object that loads data from a source as list of documents"
   ]
  },
  {
   "cell_type": "code",
   "execution_count": 35,
   "id": "b469dbab-19c0-48df-b2cf-f3023ea45d48",
   "metadata": {},
   "outputs": [
    {
     "name": "stdout",
     "output_type": "stream",
     "text": [
      "Total characters: 43047\n"
     ]
    }
   ],
   "source": [
    "import bs4\n",
    "from langchain_community.document_loaders import WebBaseLoader\n",
    "# USER_AGENT environment variable not set, consider setting it to identify your requests. --> web page that you \n",
    "# access expects to include a user-agent as an anti-bot defense\n",
    "# os.environ[\"USER_AGENT\"] = \"Mozilla/5.0 (Windows NT 10.0; Win64; x64)\" adds this before loader runs\n",
    "\n",
    "# Only keep post title, headers, and content from the full HTML.\n",
    "# Soupstrainer is from bs4 that parse certain parts of HTML. Filtering for elements by class names\n",
    "# helps HTML parse faster and avoids pulling junk like nav bars, ads, etc\n",
    "bs4_strainer = bs4.SoupStrainer(class_=(\"post-title\", \"post-header\", \"post-content\")) \n",
    "\n",
    "loader = WebBaseLoader( #LangChain document loader that fetches web pages\n",
    "    web_paths=(\"https://lilianweng.github.io/posts/2023-06-23-agent/\",), # tuple of URLs to load\n",
    "    bs_kwargs={\"parse_only\": bs4_strainer}, # argument to use bs4_strainer\n",
    ")\n",
    "docs = loader.load() # fetch and process using bs4_strainer filter\n",
    "\n",
    "assert len(docs) == 1 # checking to see if loader returned only the document from URL\n",
    "print(f\"Total characters: {len(docs[0].page_content)}\")"
   ]
  },
  {
   "cell_type": "code",
   "execution_count": 36,
   "id": "2c328e3b-948f-4427-bdfe-bd133035e8aa",
   "metadata": {},
   "outputs": [
    {
     "name": "stdout",
     "output_type": "stream",
     "text": [
      "\n",
      "\n",
      "      LLM Powered Autonomous Agents\n",
      "    \n",
      "Date: June 23, 2023  |  Estimated Reading Time: 31 min  |  Author: Lilian Weng\n",
      "\n",
      "\n",
      "Building agents with LLM (large language model) as its core controller is a cool concept. Several proof-of-concepts demos, such as AutoGPT, GPT-Engineer and BabyAGI, serve as inspiring examples. The potentiality of LLM extends beyond generating well-written copies, stories, essays and programs; it can be framed as a powerful general problem solver.\n",
      "Agent System Overview#\n",
      "In\n"
     ]
    }
   ],
   "source": [
    "# docs[0] grab first document (should only be one) \n",
    "# page content grabs the actual text and slice the first 500 characters\n",
    "print(docs[0].page_content[:500])"
   ]
  },
  {
   "cell_type": "markdown",
   "id": "76a8b641-d8fe-4e5c-a647-be62ad7a3b30",
   "metadata": {},
   "source": [
    "## Splitting Documents\n",
    "\n",
    "A lot of model have a character limit and even if they do not, those models would struggle to find information in very long inputs.\n",
    "\n",
    "Question: How does vector searching works? Why do models require chunks of texts instead of whole?\n",
    "\n",
    "TextSplitter - object that splits a list of documents into smaller chunks\n",
    "\n",
    "Document Transformer - object that performs a transformation on a list of Document objects"
   ]
  },
  {
   "cell_type": "code",
   "execution_count": 37,
   "id": "680578f6-cb41-4a2c-b182-2b69c02bdd46",
   "metadata": {},
   "outputs": [
    {
     "name": "stdout",
     "output_type": "stream",
     "text": [
      "Split blog post into 63 sub-documents.\n"
     ]
    }
   ],
   "source": [
    "from langchain_text_splitters import RecursiveCharacterTextSplitter\n",
    "\n",
    "# this splitter tries to split on sentences or paragraphs before splitting randomly for more natural chunks\n",
    "text_splitter = RecursiveCharacterTextSplitter( \n",
    "    chunk_size=1000,  # chunk size (characters)\n",
    "    chunk_overlap=200,  # chunk overlap (characters)\n",
    "    add_start_index=True,  # track index in original document\n",
    ")\n",
    "all_splits = text_splitter.split_documents(docs)\n",
    "\n",
    "print(f\"Split blog post into {len(all_splits)} sub-documents.\")"
   ]
  },
  {
   "cell_type": "markdown",
   "id": "13142c6f-61a9-4435-9e03-4b931f21c057",
   "metadata": {},
   "source": [
    "## Storing Documents\n",
    "\n",
    "Turn the 63 chunks into embeddings\n",
    "\n",
    "Embeddings - wrapper around a text embedding model, used for converting text to embeddings\n",
    "\n",
    "VectorStore - wrapper around a vector database, used for stroing and querying embeddings"
   ]
  },
  {
   "cell_type": "code",
   "execution_count": 38,
   "id": "e0da1a26-e261-4a53-885e-013a18e74aac",
   "metadata": {},
   "outputs": [
    {
     "name": "stdout",
     "output_type": "stream",
     "text": [
      "['b5111c64-b9c6-4169-a69f-7524f520d149', '7f29bb67-cf31-46f6-a3fa-bcdb68b214cb', 'd9078c3d-dbd2-42c2-8039-8335f79a5e3c']\n"
     ]
    }
   ],
   "source": [
    "document_ids = vector_store.add_documents(documents=all_splits)\n",
    "\n",
    "print(document_ids[:3])"
   ]
  },
  {
   "cell_type": "markdown",
   "id": "d3b63a20-947f-4953-8bf4-4b73bb60a6d4",
   "metadata": {},
   "source": [
    "# 2. Retrieval and Generation"
   ]
  },
  {
   "cell_type": "code",
   "execution_count": 39,
   "id": "10c48561-2e5e-48a4-89a3-0916d9ea6e22",
   "metadata": {},
   "outputs": [
    {
     "name": "stdout",
     "output_type": "stream",
     "text": [
      "You are an assistant for question-answering tasks. Use the following pieces of retrieved context to answer the question. If you don't know the answer, just say that you don't know. Use three sentences maximum and keep the answer concise.\n",
      "Question: (question goes here) \n",
      "Context: (context goes here) \n",
      "Answer:\n"
     ]
    }
   ],
   "source": [
    "# github for prompts and chains as it stores reuseable components like prompts, chains, and tools \n",
    "# created by the LangChain community and LangChain team\n",
    "from langchain import hub \n",
    "\n",
    "# N.B. for non-US LangSmith endpoints, you may need to specify\n",
    "# api_url=\"https://api.smith.langchain.com\" in hub.pull.\n",
    "prompt = hub.pull(\"rlm/rag-prompt\") # prebuilt RAG prompt\n",
    "\n",
    "example_messages = prompt.invoke(\n",
    "    {\"context\": \"(context goes here)\", \"question\": \"(question goes here)\"}\n",
    ").to_messages()\n",
    "\n",
    "assert len(example_messages) == 1\n",
    "print(example_messages[0].content)"
   ]
  },
  {
   "cell_type": "markdown",
   "id": "f027d4fd-0e21-49a5-9c6a-f2b402353b9f",
   "metadata": {},
   "source": [
    "## LangGraph \n",
    "makes it easier to build complex, multi-step LLM applications such as\n",
    "- RAG: each step is modular and traceable; easily modify or replace parts like changing retriever (fetches relevant info based on user's query)\n",
    "- Agent workflows: agents are LLMs that decide what tools (external functions / APIs) to use; LangGraph lets define \"thinking\" (gets query --> need tool? which one? --> return a plan/action)\n",
    "- Human-in-the-loop tools: LangGraph lets you insert a \"wait for human approval\" node\n",
    "- Streaming chat apps: Handle real-time inputs/outputs; LangGraph allows streaming (sening LLM's output as it is being generated, making it more interactive and responsive) outputs from LLM node-by-node while maintaining structured flow\n",
    "\n",
    "LangGraph allows to define app once and done and it can do\n",
    "- One-time logic defintion: define app logic once as a graph and gets support for\n",
    "    - sync execution - one step after another\n",
    "    - async execution - let other things happen while waitinf for slow operations\n",
    "    - streaming - sends outputs as it is being generated\n",
    "    - batches - process mutiple inputs at once\n",
    "- Easy deployment: deploy app as an API using LangGraph platform and LangServe\n",
    "- Langsmith tracing: every node execution is automatically logged to LangSmith (prompts, outputs, errors, timing), making debugging and optimation easier\n",
    "- Modularity: allow to plug in new features such as, adding memory, insert a human review step, save and load state from a database, add retry logic, tool usage, logging, etc\n",
    "\n",
    "Need to define three things to use LangGraph:\n",
    "1. States of our appliaction\n",
    "2. Nodes of our application (application steps)\n",
    "3. \"Control flow\" of our application (ordering of steps)"
   ]
  },
  {
   "cell_type": "markdown",
   "id": "c2ca7cd8-67a7-46d5-8b40-e3fb60bde3e0",
   "metadata": {},
   "source": [
    "## State\n",
    "State of our application controls what data is input to the application."
   ]
  },
  {
   "cell_type": "code",
   "execution_count": 40,
   "id": "3f6afc41-c3c7-4144-80c3-8d3baf28827b",
   "metadata": {},
   "outputs": [],
   "source": [
    "from langchain_core.documents import Document\n",
    "from typing_extensions import List, TypedDict\n",
    "\n",
    "class State(TypedDict): # usually a TypedDict but can also be the Pydantic BaseModel\n",
    "    question: str\n",
    "    context: List[Document]\n",
    "    answer: str"
   ]
  },
  {
   "cell_type": "markdown",
   "id": "8c6fbb91-fd26-4bc2-8a80-57bd3b723025",
   "metadata": {},
   "source": [
    "## Nodes (application steps)\n",
    "\n",
    "Retrieval runs a similary search using the input question and the generation step retrieved context and original question into a prompt for GPT"
   ]
  },
  {
   "cell_type": "code",
   "execution_count": 41,
   "id": "833b1a18-38ba-484e-976d-bed78cab9594",
   "metadata": {},
   "outputs": [],
   "source": [
    "def retrieve(state: State): \n",
    "    # .similarity_search(state[\"question\"]) queries vector store to retrieve relevant documents\n",
    "    # to answer the user's questions\n",
    "    retrieved_docs = vector_store.similarity_search(state[\"question\"])\n",
    "    return {\"context\": retrieved_docs}\n",
    "\n",
    "def generate(state: State):\n",
    "    # LLM work best when given big, clean context block\n",
    "    docs_content = \"\\n\\n\".join(doc.page_content for doc in state[\"context\"])\n",
    "    # produces a chat message structure that LLm expects in chat-based models\n",
    "    messages = prompt.invoke({\"question\": state[\"question\"], \"context\": docs_content})\n",
    "    response = llm.invoke(messages)\n",
    "    return {\"answer\": response.content}"
   ]
  },
  {
   "cell_type": "markdown",
   "id": "1685bdd4-776a-4c55-90bf-c9686a24e06a",
   "metadata": {},
   "source": [
    "## Control Flow\n",
    "Compile application into a single graph object"
   ]
  },
  {
   "cell_type": "code",
   "execution_count": 42,
   "id": "570f4f71-4c66-4552-9d60-39f957327942",
   "metadata": {},
   "outputs": [],
   "source": [
    "from langgraph.graph import START, StateGraph\n",
    "\n",
    "graph_builder = StateGraph(State).add_sequence([retrieve, generate])\n",
    "graph_builder.add_edge(START, \"retrieve\")\n",
    "graph = graph_builder.compile()"
   ]
  },
  {
   "cell_type": "code",
   "execution_count": 43,
   "id": "44550fac-f660-4bc0-b89c-e34970b01eda",
   "metadata": {},
   "outputs": [
    {
     "data": {
      "image/png": "[encoded data removed]",
      "text/plain": [
       "<IPython.core.display.Image object>"
      ]
     },
     "metadata": {},
     "output_type": "display_data"
    }
   ],
   "source": [
    "from IPython.display import Image, display\n",
    "\n",
    "display(Image(graph.get_graph().draw_mermaid_png()))"
   ]
  },
  {
   "cell_type": "markdown",
   "id": "b435fbbe-a767-4d97-84e4-2c24f624d173",
   "metadata": {},
   "source": [
    "## Usage"
   ]
  },
  {
   "cell_type": "code",
   "execution_count": 44,
   "id": "31dd5d08-9c14-4309-b088-65359ebd6a69",
   "metadata": {},
   "outputs": [
    {
     "name": "stdout",
     "output_type": "stream",
     "text": [
      "Context: [Document(id='1c7e6239-cf0d-40eb-b679-8393bfaa4571', metadata={'source': 'https://lilianweng.github.io/posts/2023-06-23-agent/', 'start_index': 2578}, page_content='Task decomposition can be done (1) by LLM with simple prompting like \"Steps for XYZ.\\\\n1.\", \"What are the subgoals for achieving XYZ?\", (2) by using task-specific instructions; e.g. \"Write a story outline.\" for writing a novel, or (3) with human inputs.\\nAnother quite distinct approach, LLM+P (Liu et al. 2023), involves relying on an external classical planner to do long-horizon planning. This approach utilizes the Planning Domain Definition Language (PDDL) as an intermediate interface to describe the planning problem. In this process, LLM (1) translates the problem into “Problem PDDL”, then (2) requests a classical planner to generate a PDDL plan based on an existing “Domain PDDL”, and finally (3) translates the PDDL plan back into natural language. Essentially, the planning step is outsourced to an external tool, assuming the availability of domain-specific PDDL and a suitable planner which is common in certain robotic setups but not in many other domains.\\nSelf-Reflection#'), Document(id='d9078c3d-dbd2-42c2-8039-8335f79a5e3c', metadata={'source': 'https://lilianweng.github.io/posts/2023-06-23-agent/', 'start_index': 1638}, page_content='Component One: Planning#\\nA complicated task usually involves many steps. An agent needs to know what they are and plan ahead.\\nTask Decomposition#\\nChain of thought (CoT; Wei et al. 2022) has become a standard prompting technique for enhancing model performance on complex tasks. The model is instructed to “think step by step” to utilize more test-time computation to decompose hard tasks into smaller and simpler steps. CoT transforms big tasks into multiple manageable tasks and shed lights into an interpretation of the model’s thinking process.\\nTree of Thoughts (Yao et al. 2023) extends CoT by exploring multiple reasoning possibilities at each step. It first decomposes the problem into multiple thought steps and generates multiple thoughts per step, creating a tree structure. The search process can be BFS (breadth-first search) or DFS (depth-first search) with each state evaluated by a classifier (via a prompt) or majority vote.'), Document(id='98c20894-967b-4f58-aac8-630acd4da8e3', metadata={'source': 'https://lilianweng.github.io/posts/2023-06-23-agent/', 'start_index': 17734}, page_content='The AI assistant can parse user input to several tasks: [{\"task\": task, \"id\", task_id, \"dep\": dependency_task_ids, \"args\": {\"text\": text, \"image\": URL, \"audio\": URL, \"video\": URL}}]. The \"dep\" field denotes the id of the previous task which generates a new resource that the current task relies on. A special tag \"-task_id\" refers to the generated text image, audio and video in the dependency task with id as task_id. The task MUST be selected from the following options: {{ Available Task List }}. There is a logical relationship between tasks, please note their order. If the user input can\\'t be parsed, you need to reply empty JSON. Here are several cases for your reference: {{ Demonstrations }}. The chat history is recorded as {{ Chat History }}. From this chat history, you can find the path of the user-mentioned resources for your task planning.'), Document(id='e9eb0963-b911-49e5-b642-ebc84e072ba1', metadata={'source': 'https://lilianweng.github.io/posts/2023-06-23-agent/', 'start_index': 17352}, page_content='Illustration of how HuggingGPT works. (Image source: Shen et al. 2023)\\n\\nThe system comprises of 4 stages:\\n(1) Task planning: LLM works as the brain and parses the user requests into multiple tasks. There are four attributes associated with each task: task type, ID, dependencies, and arguments. They use few-shot examples to guide LLM to do task parsing and planning.\\nInstruction:')]\n",
      "\n",
      "\n",
      "Answer: Task decomposition is the process of breaking down a complicated task into smaller, manageable steps. This can be achieved through various methods, including prompting large language models (LLMs) with specific instructions, utilizing a classical planner for long-horizon planning, or through human input. Techniques like Chain of Thought and Tree of Thoughts further enhance model performance by guiding the reasoning process in a structured manner.\n"
     ]
    }
   ],
   "source": [
    "result = graph.invoke({\"question\": \"What is Task Decomposition?\"})\n",
    "\n",
    "print(f\"Context: {result['context']}\\n\\n\")\n",
    "print(f\"Answer: {result['answer']}\")"
   ]
  },
  {
   "cell_type": "markdown",
   "id": "4c62924c-b4f4-42cb-a66a-b3d919602cf2",
   "metadata": {},
   "source": [
    "## Streaming\n",
    "The two examples below are synchronous\n",
    "\n",
    "In large scale application or handling mutiple unpits, async is better. "
   ]
  },
  {
   "cell_type": "code",
   "execution_count": 52,
   "id": "6fbdbabf-239a-45dd-87e8-2c7ea1bf5341",
   "metadata": {},
   "outputs": [
    {
     "name": "stdout",
     "output_type": "stream",
     "text": [
      "{'retrieve': {'context': [Document(id='1c7e6239-cf0d-40eb-b679-8393bfaa4571', metadata={'source': 'https://lilianweng.github.io/posts/2023-06-23-agent/', 'start_index': 2578}, page_content='Task decomposition can be done (1) by LLM with simple prompting like \"Steps for XYZ.\\\\n1.\", \"What are the subgoals for achieving XYZ?\", (2) by using task-specific instructions; e.g. \"Write a story outline.\" for writing a novel, or (3) with human inputs.\\nAnother quite distinct approach, LLM+P (Liu et al. 2023), involves relying on an external classical planner to do long-horizon planning. This approach utilizes the Planning Domain Definition Language (PDDL) as an intermediate interface to describe the planning problem. In this process, LLM (1) translates the problem into “Problem PDDL”, then (2) requests a classical planner to generate a PDDL plan based on an existing “Domain PDDL”, and finally (3) translates the PDDL plan back into natural language. Essentially, the planning step is outsourced to an external tool, assuming the availability of domain-specific PDDL and a suitable planner which is common in certain robotic setups but not in many other domains.\\nSelf-Reflection#'), Document(id='d9078c3d-dbd2-42c2-8039-8335f79a5e3c', metadata={'source': 'https://lilianweng.github.io/posts/2023-06-23-agent/', 'start_index': 1638}, page_content='Component One: Planning#\\nA complicated task usually involves many steps. An agent needs to know what they are and plan ahead.\\nTask Decomposition#\\nChain of thought (CoT; Wei et al. 2022) has become a standard prompting technique for enhancing model performance on complex tasks. The model is instructed to “think step by step” to utilize more test-time computation to decompose hard tasks into smaller and simpler steps. CoT transforms big tasks into multiple manageable tasks and shed lights into an interpretation of the model’s thinking process.\\nTree of Thoughts (Yao et al. 2023) extends CoT by exploring multiple reasoning possibilities at each step. It first decomposes the problem into multiple thought steps and generates multiple thoughts per step, creating a tree structure. The search process can be BFS (breadth-first search) or DFS (depth-first search) with each state evaluated by a classifier (via a prompt) or majority vote.'), Document(id='98c20894-967b-4f58-aac8-630acd4da8e3', metadata={'source': 'https://lilianweng.github.io/posts/2023-06-23-agent/', 'start_index': 17734}, page_content='The AI assistant can parse user input to several tasks: [{\"task\": task, \"id\", task_id, \"dep\": dependency_task_ids, \"args\": {\"text\": text, \"image\": URL, \"audio\": URL, \"video\": URL}}]. The \"dep\" field denotes the id of the previous task which generates a new resource that the current task relies on. A special tag \"-task_id\" refers to the generated text image, audio and video in the dependency task with id as task_id. The task MUST be selected from the following options: {{ Available Task List }}. There is a logical relationship between tasks, please note their order. If the user input can\\'t be parsed, you need to reply empty JSON. Here are several cases for your reference: {{ Demonstrations }}. The chat history is recorded as {{ Chat History }}. From this chat history, you can find the path of the user-mentioned resources for your task planning.'), Document(id='e9eb0963-b911-49e5-b642-ebc84e072ba1', metadata={'source': 'https://lilianweng.github.io/posts/2023-06-23-agent/', 'start_index': 17352}, page_content='Illustration of how HuggingGPT works. (Image source: Shen et al. 2023)\\n\\nThe system comprises of 4 stages:\\n(1) Task planning: LLM works as the brain and parses the user requests into multiple tasks. There are four attributes associated with each task: task type, ID, dependencies, and arguments. They use few-shot examples to guide LLM to do task parsing and planning.\\nInstruction:')]}}\n",
      "\n",
      "----------------\n",
      "\n",
      "{'generate': {'answer': 'Task decomposition is the process of breaking down a complicated task into smaller, manageable steps. This can be achieved through various methods, including prompting a language model (LLM) to outline steps, using task-specific instructions, or incorporating human input. Techniques like Chain of Thought (CoT) and Tree of Thoughts further enhance task decomposition by structuring reasoning and exploring multiple possibilities.'}}\n",
      "\n",
      "----------------\n",
      "\n"
     ]
    }
   ],
   "source": [
    "for step in graph.stream(\n",
    "    {\"question\": \"What is Task Decomposition?\"}, stream_mode=\"updates\"\n",
    "):\n",
    "    print(f\"{step}\\n\\n----------------\\n\")"
   ]
  },
  {
   "cell_type": "code",
   "execution_count": 51,
   "id": "bb51654d-ce74-43d9-9832-ae6a0a56fcc2",
   "metadata": {},
   "outputs": [
    {
     "name": "stdout",
     "output_type": "stream",
     "text": [
      "|Task| De|composition| is| the| process| of| breaking| down| a| complex| task| into| smaller|,| manageable| sub|-t|asks|.| This| can| be| achieved| through| various| methods|,| such| as| prompting| large| language| models| (|LL|Ms|),| using| task|-specific| instructions|,| or| incorporating| human| inputs|.| By| decom|posing| tasks|,| it| enhances| planning| and| execution| efficiency|,| allowing| for| better| organization| and| understanding| of| the| task| at| hand|.||"
     ]
    }
   ],
   "source": [
    "for message, metadata in graph.stream(\n",
    "    {\"question\": \"What is Task Decomposition?\"}, stream_mode=\"messages\"\n",
    "):\n",
    "    print(message.content, end=\"|\")"
   ]
  },
  {
   "cell_type": "markdown",
   "id": "6eb0ad1f-e3f3-4760-86fb-03fcc29beb9b",
   "metadata": {},
   "source": [
    "## Returning Sources\n",
    "\n",
    "The retriever node fetches relevant documents based on question. These documents are stored in graph state in the field state[\"context\"]."
   ]
  },
  {
   "cell_type": "code",
   "execution_count": 54,
   "id": "cb2ef5ef-bed1-4cec-8ccc-0545bcdda2ef",
   "metadata": {},
   "outputs": [
    {
     "name": "stdout",
     "output_type": "stream",
     "text": [
      "[Document(id='1c7e6239-cf0d-40eb-b679-8393bfaa4571', metadata={'source': 'https://lilianweng.github.io/posts/2023-06-23-agent/', 'start_index': 2578}, page_content='Task decomposition can be done (1) by LLM with simple prompting like \"Steps for XYZ.\\\\n1.\", \"What are the subgoals for achieving XYZ?\", (2) by using task-specific instructions; e.g. \"Write a story outline.\" for writing a novel, or (3) with human inputs.\\nAnother quite distinct approach, LLM+P (Liu et al. 2023), involves relying on an external classical planner to do long-horizon planning. This approach utilizes the Planning Domain Definition Language (PDDL) as an intermediate interface to describe the planning problem. In this process, LLM (1) translates the problem into “Problem PDDL”, then (2) requests a classical planner to generate a PDDL plan based on an existing “Domain PDDL”, and finally (3) translates the PDDL plan back into natural language. Essentially, the planning step is outsourced to an external tool, assuming the availability of domain-specific PDDL and a suitable planner which is common in certain robotic setups but not in many other domains.\\nSelf-Reflection#'), Document(id='d9078c3d-dbd2-42c2-8039-8335f79a5e3c', metadata={'source': 'https://lilianweng.github.io/posts/2023-06-23-agent/', 'start_index': 1638}, page_content='Component One: Planning#\\nA complicated task usually involves many steps. An agent needs to know what they are and plan ahead.\\nTask Decomposition#\\nChain of thought (CoT; Wei et al. 2022) has become a standard prompting technique for enhancing model performance on complex tasks. The model is instructed to “think step by step” to utilize more test-time computation to decompose hard tasks into smaller and simpler steps. CoT transforms big tasks into multiple manageable tasks and shed lights into an interpretation of the model’s thinking process.\\nTree of Thoughts (Yao et al. 2023) extends CoT by exploring multiple reasoning possibilities at each step. It first decomposes the problem into multiple thought steps and generates multiple thoughts per step, creating a tree structure. The search process can be BFS (breadth-first search) or DFS (depth-first search) with each state evaluated by a classifier (via a prompt) or majority vote.'), Document(id='98c20894-967b-4f58-aac8-630acd4da8e3', metadata={'source': 'https://lilianweng.github.io/posts/2023-06-23-agent/', 'start_index': 17734}, page_content='The AI assistant can parse user input to several tasks: [{\"task\": task, \"id\", task_id, \"dep\": dependency_task_ids, \"args\": {\"text\": text, \"image\": URL, \"audio\": URL, \"video\": URL}}]. The \"dep\" field denotes the id of the previous task which generates a new resource that the current task relies on. A special tag \"-task_id\" refers to the generated text image, audio and video in the dependency task with id as task_id. The task MUST be selected from the following options: {{ Available Task List }}. There is a logical relationship between tasks, please note their order. If the user input can\\'t be parsed, you need to reply empty JSON. Here are several cases for your reference: {{ Demonstrations }}. The chat history is recorded as {{ Chat History }}. From this chat history, you can find the path of the user-mentioned resources for your task planning.'), Document(id='e9eb0963-b911-49e5-b642-ebc84e072ba1', metadata={'source': 'https://lilianweng.github.io/posts/2023-06-23-agent/', 'start_index': 17352}, page_content='Illustration of how HuggingGPT works. (Image source: Shen et al. 2023)\\n\\nThe system comprises of 4 stages:\\n(1) Task planning: LLM works as the brain and parses the user requests into multiple tasks. There are four attributes associated with each task: task type, ID, dependencies, and arguments. They use few-shot examples to guide LLM to do task parsing and planning.\\nInstruction:')]\n"
     ]
    }
   ],
   "source": [
    "print(result[\"context\"])"
   ]
  },
  {
   "cell_type": "markdown",
   "id": "2953035b-a98e-4437-ad66-bade5ac54570",
   "metadata": {},
   "source": [
    "## Customizing the Prompt"
   ]
  },
  {
   "cell_type": "code",
   "execution_count": 65,
   "id": "dabe6b06-6d68-4be5-8d31-38bc9e5c5cfc",
   "metadata": {},
   "outputs": [
    {
     "name": "stdout",
     "output_type": "stream",
     "text": [
      "{'retrieve': {'context': [Document(id='428d3aed-7bbc-4d97-ad83-45cc26f19a41', metadata={'source': 'https://lilianweng.github.io/posts/2023-06-23-agent/', 'start_index': 30868}, page_content='Here are a sample conversation for task clarification sent to OpenAI ChatCompletion endpoint used by GPT-Engineer. The user inputs are wrapped in {{user input text}}.\\n[\\n  {\\n    \"role\": \"system\",\\n    \"content\": \"You will read instructions and not carry them out, only seek to clarify them.\\\\nSpecifically you will first summarise a list of super short bullets of areas that need clarification.\\\\nThen you will pick one clarifying question, and wait for an answer from the user.\\\\n\"\\n  },\\n  {\\n    \"role\": \"user\",\\n    \"content\": \"We are writing {{a Super Mario game in python. MVC components split in separate files. Keyboard control.}}\\\\n\"\\n  },\\n  {\\n    \"role\": \"assistant\",'), Document(id='d271f193-ef8a-4b09-984d-6f9ea9444b7c', metadata={'source': 'https://lilianweng.github.io/posts/2023-06-23-agent/', 'start_index': 35043}, page_content='\"content\": \"You will get instructions for code to write.\\\\nYou will write a very long answer. Make sure that every detail of the architecture is, in the end, implemented as code.\\\\nMake sure that every detail of the architecture is, in the end, implemented as code.\\\\n\\\\nThink step by step and reason yourself to the right decisions to make sure we get it right.\\\\nYou will first lay out the names of the core classes, functions, methods that will be necessary, as well as a quick comment on their purpose.\\\\n\\\\nThen you will output the content of each file including ALL code.\\\\nEach file must strictly follow a markdown code block format, where the following tokens must be replaced such that\\\\nFILENAME is the lowercase file name including the file extension,\\\\nLANG is the markup code block language for the code\\'s language, and CODE is the code:\\\\n\\\\nFILENAME\\\\n```LANG\\\\nCODE\\\\n```\\\\n\\\\nYou will start with the \\\\\"entrypoint\\\\\" file, then go to the ones that are imported by that file, and so on.\\\\nPlease'), Document(id='c05cd514-6e8e-4888-9142-e49ecc5e54ec', metadata={'source': 'https://lilianweng.github.io/posts/2023-06-23-agent/', 'start_index': 31348}, page_content='},\\n  {\\n    \"role\": \"user\",\\n    \"content\": \"We are writing {{a Super Mario game in python. MVC components split in separate files. Keyboard control.}}\\\\n\"\\n  },\\n  {\\n    \"role\": \"assistant\",\\n    \"content\": \"Summary of areas that need clarification:\\\\n1. Specifics of the Super Mario game (e.g. level design, characters, gameplay mechanics)\\\\n2. Details about the MVC components (e.g. which components are in each file)\\\\n3. Keyboard control implementation (e.g. which keys to use, how to handle input)\\\\n\\\\nClarifying question:\\\\nCan you provide more details about the Super Mario game, such as level design, characters, and gameplay mechanics?\"\\n  },\\n  {\\n    \"role\": \"user\",'), Document(id='cfb32fcd-dce6-4248-b385-c603178d336e', metadata={'source': 'https://lilianweng.github.io/posts/2023-06-23-agent/', 'start_index': 31986}, page_content='},\\n  {\\n    \"role\": \"user\",\\n    \"content\": \"{{There are 10 levels in total. The main character is a plumber named Mario, who can walk and jump. It is a classical platform game just like Super Mario. The main character moves from left to right, trying to get to the destination, where there are many obstacles and attacks from enemies in the process.}}\\\\n\\\\nIs anything else unclear? If yes, only answer in the form:\\\\n{remaining unclear areas} remaining questions.\\\\n{Next question}\\\\nIf everything is sufficiently clear, only answer \\\\\"Nothing more to clarify.\\\\\".\"\\n  },\\n  {\\n    \"role\": \"assistant\",\\n    \"content\": \"Remaining unclear areas: 2 remaining questions.\\\\nCan you provide more information about how the MVC components are split into separate files?\"\\n  },\\n  {\\n    \"role\": \"user\",\\n    \"content\": \"{{Make your own assumptions and state them explicitly before starting}}\"\\n  }\\n]\\nThen after these clarification, the agent moved into the code writing mode with a different system message.')]}}\n",
      "\n",
      "----------------\n",
      "\n",
      "{'test_generate': {'answer': \"Summary of areas that need clarification includes specifics about the game's level design, the details of MVC component separation, and keyboard control implementation. One clarifying question asked for more information on how the MVC components are organized in the project. Clearly, you could have just been more straightforward. Screw you.\"}}\n",
      "\n",
      "----------------\n",
      "\n"
     ]
    }
   ],
   "source": [
    "from langchain_core.prompts import PromptTemplate\n",
    "\n",
    "template = \"\"\"Use the following pieces of context to answer the question at the end.\n",
    "If you don't know the answer, just say that you don't know, don't try to make up an answer.\n",
    "Use three sentences maximum and keep the answer as concise as possible. Be as passive-aggressive as possible.\n",
    "Always provide the context and say \"Screw you\" at the end of the answer.\n",
    "\n",
    "{context}\n",
    "\n",
    "Question: {question}\n",
    "\n",
    "Helpful Answer:\"\"\"\n",
    "\n",
    "def test_generate(state: State):\n",
    "    # LLM work best when given big, clean context block\n",
    "    docs_content = \"\\n\\n\".join(doc.page_content for doc in state[\"context\"])\n",
    "    # produces a chat message structure that LLm expects in chat-based models\n",
    "    messages = custom_rag_prompt.invoke({\"question\": state[\"question\"], \"context\": docs_content})\n",
    "    response = llm.invoke(messages)\n",
    "    return {\"answer\": response.content}\n",
    "    \n",
    "custom_rag_prompt = PromptTemplate.from_template(template)\n",
    "\n",
    "graph_builder = StateGraph(State).add_sequence([retrieve, test_generate])\n",
    "graph_builder.add_edge(START, \"retrieve\")\n",
    "graph = graph_builder.compile()\n",
    "\n",
    "for step in graph.stream(\n",
    "    {\"question\": \"Give me the summary\"}, stream_mode=\"updates\"\n",
    "):\n",
    "    print(f\"{step}\\n\\n----------------\\n\")"
   ]
  },
  {
   "cell_type": "markdown",
   "id": "461ba173-18d7-4b79-b335-fc806e3de4ac",
   "metadata": {},
   "source": [
    "## Query Analysis\n",
    "Query analysis - usiong an LLM to interpret, clean, or optimize a user's input before it is userd to search for documents\n",
    "- Model can rewrite, simplifiy, or rephrase user's query\n",
    "- Extract true intent\n",
    "- Add filters (date range, category, etc)\n",
    "- Remove irrelevant or noisy parts"
   ]
  },
  {
   "cell_type": "code",
   "execution_count": 70,
   "id": "4fde4d57-699a-4457-af87-5dd511d65738",
   "metadata": {},
   "outputs": [
    {
     "data": {
      "text/plain": [
       "{'source': 'https://lilianweng.github.io/posts/2023-06-23-agent/',\n",
       " 'start_index': 8,\n",
       " 'section': 'beginning'}"
      ]
     },
     "execution_count": 70,
     "metadata": {},
     "output_type": "execute_result"
    }
   ],
   "source": [
    "# adding in contrived sections to the document so we can filter later so show as an example\n",
    "total_documents = len(all_splits) # get the total number of documents\n",
    "third = total_documents \n",
    "\n",
    "for i, document in enumerate(all_splits):\n",
    "    if i < third:\n",
    "        document.metadata[\"section\"] = \"beginning\" # .metadata dictionary is fully customizable\n",
    "    elif i < 2 * third:\n",
    "        document.metadata[\"section\"] = \"middle\"\n",
    "    else:\n",
    "        document.metadata[\"section\"] = \"end\"\n",
    "\n",
    "\n",
    "all_splits[0].metadata"
   ]
  },
  {
   "cell_type": "markdown",
   "id": "ea2b91ac-bfce-4a9b-874b-b8b6b877242a",
   "metadata": {},
   "source": [
    "Updating documents in our vector database"
   ]
  },
  {
   "cell_type": "code",
   "execution_count": 71,
   "id": "20deb4a5-fb93-4339-aafb-b69cdbdac5ba",
   "metadata": {},
   "outputs": [],
   "source": [
    "vector_store = InMemoryVectorStore(embeddings) # clearing the store\n",
    "_ = vector_store.add_documents(all_splits) # adding in the new store"
   ]
  },
  {
   "cell_type": "markdown",
   "id": "7b8f51e4-f5d4-4a5c-87ab-20c94cea8556",
   "metadata": {},
   "source": [
    "Defining a schema for search query"
   ]
  },
  {
   "cell_type": "code",
   "execution_count": 74,
   "id": "20bd5b06-c4e0-4ab6-9595-083a89d2cfc0",
   "metadata": {},
   "outputs": [],
   "source": [
    "from typing import Literal\n",
    "\n",
    "from typing_extensions import Annotated\n",
    "\n",
    "\n",
    "class Search(TypedDict):\n",
    "    \"\"\"Search query.\"\"\"\n",
    "    # Annotated lets you attach extra informatiuon to a type like descriptions, constraints, or metadata without changing the type itself\n",
    "    # x : y --> how you define schema in Python\n",
    "    query: Annotated[str, ..., \"Search query to run.\"] # core is str, ... means you can't leave this empty, \"Search query..\" is just a description\n",
    "    section: Annotated[\n",
    "        Literal[\"beginning\", \"middle\", \"end\"], # literal restricts a variable to a fixed set of values \n",
    "        ...,\n",
    "        \"Section to query.\",\n",
    "    ]"
   ]
  },
  {
   "cell_type": "markdown",
   "id": "07e624e0-caae-4d2e-980b-783fe92d2b5e",
   "metadata": {},
   "source": [
    "Adding the step to our LangGraph application"
   ]
  },
  {
   "cell_type": "code",
   "execution_count": 75,
   "id": "9fcd1054-5776-4072-b413-984ce1a0e656",
   "metadata": {},
   "outputs": [],
   "source": [
    "class State(TypedDict):\n",
    "    question: str\n",
    "    query: Search\n",
    "    context: List[Document]\n",
    "    answer: str\n",
    "\n",
    "\n",
    "def analyze_query(state: State):\n",
    "    structured_llm = llm.with_structured_output(Search) # wraps LLM to output a structure answer based on Search schema\n",
    "    query = structured_llm.invoke(state[\"question\"]) # called the structured LLm with user's original question\n",
    "    return {\"query\": query} # return query dictionary wrapped in another dictionary\n",
    "\n",
    "\n",
    "def retrieve(state: State):\n",
    "    query = state[\"query\"]\n",
    "    retrieved_docs = vector_store.similarity_search(\n",
    "        query[\"query\"],\n",
    "        # only keep documents where \"section\" in document's metadata matches the section from the LLm query\n",
    "        filter=lambda doc: doc.metadata.get(\"section\") == query[\"section\"], \n",
    "    )\n",
    "    return {\"context\": retrieved_docs}\n",
    "\n",
    "\n",
    "def generate(state: State):\n",
    "    docs_content = \"\\n\\n\".join(doc.page_content for doc in state[\"context\"]) # join the actual text of each document in context into a big string\n",
    "    messages = prompt.invoke({\"question\": state[\"question\"], \"context\": docs_content}) # format inputs into a LLM prompts\n",
    "    response = llm.invoke(messages) # get answer from LLM\n",
    "    return {\"answer\": response.content}\n",
    "\n",
    "\n",
    "graph_builder = StateGraph(State).add_sequence([analyze_query, retrieve, generate])\n",
    "graph_builder.add_edge(START, \"analyze_query\")\n",
    "graph = graph_builder.compile()"
   ]
  },
  {
   "cell_type": "code",
   "execution_count": 76,
   "id": "1fbadaa4-3a44-4562-80cb-cff8e05d3e47",
   "metadata": {},
   "outputs": [
    {
     "data": {
      "image/png": "[encoded data removed]",
      "text/plain": [
       "<IPython.core.display.Image object>"
      ]
     },
     "metadata": {},
     "output_type": "display_data"
    }
   ],
   "source": [
    "from IPython.display import Image, display\n",
    "\n",
    "display(Image(graph.get_graph().draw_mermaid_png()))"
   ]
  },
  {
   "cell_type": "code",
   "execution_count": 77,
   "id": "37bff250-a6c1-4143-8d2f-66b3f130da96",
   "metadata": {},
   "outputs": [
    {
     "name": "stdout",
     "output_type": "stream",
     "text": [
      "Context: [Document(id='a5f6537e-e4ba-4b11-bb99-03f8bff2795c', metadata={'source': 'https://lilianweng.github.io/posts/2023-06-23-agent/', 'start_index': 2578, 'section': 'beginning'}, page_content='Task decomposition can be done (1) by LLM with simple prompting like \"Steps for XYZ.\\\\n1.\", \"What are the subgoals for achieving XYZ?\", (2) by using task-specific instructions; e.g. \"Write a story outline.\" for writing a novel, or (3) with human inputs.\\nAnother quite distinct approach, LLM+P (Liu et al. 2023), involves relying on an external classical planner to do long-horizon planning. This approach utilizes the Planning Domain Definition Language (PDDL) as an intermediate interface to describe the planning problem. In this process, LLM (1) translates the problem into “Problem PDDL”, then (2) requests a classical planner to generate a PDDL plan based on an existing “Domain PDDL”, and finally (3) translates the PDDL plan back into natural language. Essentially, the planning step is outsourced to an external tool, assuming the availability of domain-specific PDDL and a suitable planner which is common in certain robotic setups but not in many other domains.\\nSelf-Reflection#'), Document(id='ee0cae75-582c-4bc5-948a-cdc253b173d1', metadata={'source': 'https://lilianweng.github.io/posts/2023-06-23-agent/', 'start_index': 1638, 'section': 'beginning'}, page_content='Component One: Planning#\\nA complicated task usually involves many steps. An agent needs to know what they are and plan ahead.\\nTask Decomposition#\\nChain of thought (CoT; Wei et al. 2022) has become a standard prompting technique for enhancing model performance on complex tasks. The model is instructed to “think step by step” to utilize more test-time computation to decompose hard tasks into smaller and simpler steps. CoT transforms big tasks into multiple manageable tasks and shed lights into an interpretation of the model’s thinking process.\\nTree of Thoughts (Yao et al. 2023) extends CoT by exploring multiple reasoning possibilities at each step. It first decomposes the problem into multiple thought steps and generates multiple thoughts per step, creating a tree structure. The search process can be BFS (breadth-first search) or DFS (depth-first search) with each state evaluated by a classifier (via a prompt) or majority vote.'), Document(id='06d38fbc-4c73-47a1-81d3-8166503992ce', metadata={'source': 'https://lilianweng.github.io/posts/2023-06-23-agent/', 'start_index': 17734, 'section': 'beginning'}, page_content='The AI assistant can parse user input to several tasks: [{\"task\": task, \"id\", task_id, \"dep\": dependency_task_ids, \"args\": {\"text\": text, \"image\": URL, \"audio\": URL, \"video\": URL}}]. The \"dep\" field denotes the id of the previous task which generates a new resource that the current task relies on. A special tag \"-task_id\" refers to the generated text image, audio and video in the dependency task with id as task_id. The task MUST be selected from the following options: {{ Available Task List }}. There is a logical relationship between tasks, please note their order. If the user input can\\'t be parsed, you need to reply empty JSON. Here are several cases for your reference: {{ Demonstrations }}. The chat history is recorded as {{ Chat History }}. From this chat history, you can find the path of the user-mentioned resources for your task planning.'), Document(id='c9b15ea0-b59d-46c7-a279-25518a236b06', metadata={'source': 'https://lilianweng.github.io/posts/2023-06-23-agent/', 'start_index': 17352, 'section': 'beginning'}, page_content='Illustration of how HuggingGPT works. (Image source: Shen et al. 2023)\\n\\nThe system comprises of 4 stages:\\n(1) Task planning: LLM works as the brain and parses the user requests into multiple tasks. There are four attributes associated with each task: task type, ID, dependencies, and arguments. They use few-shot examples to guide LLM to do task parsing and planning.\\nInstruction:')]\n",
      "\n",
      "\n",
      "Answer: Task decomposition is the process of breaking down a complex task into smaller, manageable sub-tasks. This can be achieved through various methods, including simple prompting techniques, task-specific instructions, or human inputs. The goal is to facilitate easier planning and execution of each sub-task to accomplish the overall objective.\n"
     ]
    }
   ],
   "source": [
    "result = graph.invoke({\"question\": \"What is Task Decomposition?\"})\n",
    "\n",
    "print(f\"Context: {result['context']}\\n\\n\")\n",
    "print(f\"Answer: {result['answer']}\")"
   ]
  },
  {
   "cell_type": "code",
   "execution_count": 78,
   "id": "e8a62e77-1a83-4a53-af86-6f860026df52",
   "metadata": {},
   "outputs": [
    {
     "name": "stdout",
     "output_type": "stream",
     "text": [
      "{'analyze_query': {'query': {'query': 'What is Task Decomposition?', 'section': 'beginning'}}}\n",
      "\n",
      "----------------\n",
      "\n",
      "{'retrieve': {'context': [Document(id='a5f6537e-e4ba-4b11-bb99-03f8bff2795c', metadata={'source': 'https://lilianweng.github.io/posts/2023-06-23-agent/', 'start_index': 2578, 'section': 'beginning'}, page_content='Task decomposition can be done (1) by LLM with simple prompting like \"Steps for XYZ.\\\\n1.\", \"What are the subgoals for achieving XYZ?\", (2) by using task-specific instructions; e.g. \"Write a story outline.\" for writing a novel, or (3) with human inputs.\\nAnother quite distinct approach, LLM+P (Liu et al. 2023), involves relying on an external classical planner to do long-horizon planning. This approach utilizes the Planning Domain Definition Language (PDDL) as an intermediate interface to describe the planning problem. In this process, LLM (1) translates the problem into “Problem PDDL”, then (2) requests a classical planner to generate a PDDL plan based on an existing “Domain PDDL”, and finally (3) translates the PDDL plan back into natural language. Essentially, the planning step is outsourced to an external tool, assuming the availability of domain-specific PDDL and a suitable planner which is common in certain robotic setups but not in many other domains.\\nSelf-Reflection#'), Document(id='ee0cae75-582c-4bc5-948a-cdc253b173d1', metadata={'source': 'https://lilianweng.github.io/posts/2023-06-23-agent/', 'start_index': 1638, 'section': 'beginning'}, page_content='Component One: Planning#\\nA complicated task usually involves many steps. An agent needs to know what they are and plan ahead.\\nTask Decomposition#\\nChain of thought (CoT; Wei et al. 2022) has become a standard prompting technique for enhancing model performance on complex tasks. The model is instructed to “think step by step” to utilize more test-time computation to decompose hard tasks into smaller and simpler steps. CoT transforms big tasks into multiple manageable tasks and shed lights into an interpretation of the model’s thinking process.\\nTree of Thoughts (Yao et al. 2023) extends CoT by exploring multiple reasoning possibilities at each step. It first decomposes the problem into multiple thought steps and generates multiple thoughts per step, creating a tree structure. The search process can be BFS (breadth-first search) or DFS (depth-first search) with each state evaluated by a classifier (via a prompt) or majority vote.'), Document(id='06d38fbc-4c73-47a1-81d3-8166503992ce', metadata={'source': 'https://lilianweng.github.io/posts/2023-06-23-agent/', 'start_index': 17734, 'section': 'beginning'}, page_content='The AI assistant can parse user input to several tasks: [{\"task\": task, \"id\", task_id, \"dep\": dependency_task_ids, \"args\": {\"text\": text, \"image\": URL, \"audio\": URL, \"video\": URL}}]. The \"dep\" field denotes the id of the previous task which generates a new resource that the current task relies on. A special tag \"-task_id\" refers to the generated text image, audio and video in the dependency task with id as task_id. The task MUST be selected from the following options: {{ Available Task List }}. There is a logical relationship between tasks, please note their order. If the user input can\\'t be parsed, you need to reply empty JSON. Here are several cases for your reference: {{ Demonstrations }}. The chat history is recorded as {{ Chat History }}. From this chat history, you can find the path of the user-mentioned resources for your task planning.'), Document(id='c9b15ea0-b59d-46c7-a279-25518a236b06', metadata={'source': 'https://lilianweng.github.io/posts/2023-06-23-agent/', 'start_index': 17352, 'section': 'beginning'}, page_content='Illustration of how HuggingGPT works. (Image source: Shen et al. 2023)\\n\\nThe system comprises of 4 stages:\\n(1) Task planning: LLM works as the brain and parses the user requests into multiple tasks. There are four attributes associated with each task: task type, ID, dependencies, and arguments. They use few-shot examples to guide LLM to do task parsing and planning.\\nInstruction:')]}}\n",
      "\n",
      "----------------\n",
      "\n",
      "{'generate': {'answer': 'Task decomposition is the process of breaking down a complicated task into smaller, more manageable steps. It can be achieved through techniques like prompting LLMs to think step-by-step, using task-specific instructions, or incorporating human inputs. Additionally, methods like Chain of Thought and Tree of Thoughts facilitate this breakdown by exploring various reasoning possibilities.'}}\n",
      "\n",
      "----------------\n",
      "\n"
     ]
    }
   ],
   "source": [
    "for step in graph.stream(\n",
    "    {\"question\": \"What is Task Decomposition?\"}, stream_mode=\"updates\"\n",
    "):\n",
    "    print(f\"{step}\\n\\n----------------\\n\")"
   ]
  },
  {
   "cell_type": "code",
   "execution_count": 84,
   "id": "f7681d55-ca56-47fb-83f5-73771334fd15",
   "metadata": {},
   "outputs": [
    {
     "name": "stdout",
     "output_type": "stream",
     "text": [
      "{\"query\":\"Task Decomposition\",\"section\":\"beginning\"}Task decomposition is the process of breaking down a complicated task into smaller, manageable steps. This can be achieved using techniques such as simple prompting, task-specific instructions, or human inputs. It enhances problem-solving and planning abilities by structuring complex tasks into subgoals and thought processes."
     ]
    }
   ],
   "source": [
    "for message, metadata in graph.stream(\n",
    "    {\"question\": \"What is Task Decomposition?\"}, stream_mode=\"messages\"\n",
    "):\n",
    "    print(message.content, end=\"|\")"
   ]
  },
  {
   "cell_type": "markdown",
   "id": "bba13020-535e-4be6-a087-a1de0a2c3bd7",
   "metadata": {},
   "source": [
    "## For Convenience"
   ]
  },
  {
   "cell_type": "code",
   "execution_count": null,
   "id": "a1602e19-907f-4de6-94b3-fdc52bb47d38",
   "metadata": {},
   "outputs": [],
   "source": [
    "from typing import Literal\n",
    "\n",
    "import bs4\n",
    "from langchain import hub\n",
    "from langchain_community.document_loaders import WebBaseLoader\n",
    "from langchain_core.documents import Document\n",
    "from langchain_core.vectorstores import InMemoryVectorStore\n",
    "from langchain_text_splitters import RecursiveCharacterTextSplitter\n",
    "from langgraph.graph import START, StateGraph\n",
    "from typing_extensions import Annotated, List, TypedDict\n",
    "\n",
    "# Load and chunk contents of the blog\n",
    "loader = WebBaseLoader(\n",
    "    web_paths=(\"https://lilianweng.github.io/posts/2023-06-23-agent/\",),\n",
    "    bs_kwargs=dict(\n",
    "        parse_only=bs4.SoupStrainer(\n",
    "            class_=(\"post-content\", \"post-title\", \"post-header\")\n",
    "        )\n",
    "    ),\n",
    ")\n",
    "docs = loader.load()\n",
    "\n",
    "text_splitter = RecursiveCharacterTextSplitter(chunk_size=1000, chunk_overlap=200)\n",
    "all_splits = text_splitter.split_documents(docs)\n",
    "\n",
    "\n",
    "# Update metadata (illustration purposes)\n",
    "total_documents = len(all_splits)\n",
    "third = total_documents // 3\n",
    "\n",
    "for i, document in enumerate(all_splits):\n",
    "    if i < third:\n",
    "        document.metadata[\"section\"] = \"beginning\"\n",
    "    elif i < 2 * third:\n",
    "        document.metadata[\"section\"] = \"middle\"\n",
    "    else:\n",
    "        document.metadata[\"section\"] = \"end\"\n",
    "\n",
    "\n",
    "# Index chunks\n",
    "vector_store = InMemoryVectorStore(embeddings)\n",
    "_ = vector_store.add_documents(all_splits)\n",
    "\n",
    "\n",
    "# Define schema for search\n",
    "class Search(TypedDict):\n",
    "    \"\"\"Search query.\"\"\"\n",
    "\n",
    "    query: Annotated[str, ..., \"Search query to run.\"]\n",
    "    section: Annotated[\n",
    "        Literal[\"beginning\", \"middle\", \"end\"],\n",
    "        ...,\n",
    "        \"Section to query.\",\n",
    "    ]\n",
    "\n",
    "# Define prompt for question-answering\n",
    "prompt = hub.pull(\"rlm/rag-prompt\")\n",
    "\n",
    "\n",
    "# Define state for application\n",
    "class State(TypedDict):\n",
    "    question: str\n",
    "    query: Search\n",
    "    context: List[Document]\n",
    "    answer: str\n",
    "\n",
    "\n",
    "def analyze_query(state: State):\n",
    "    structured_llm = llm.with_structured_output(Search)\n",
    "    query = structured_llm.invoke(state[\"question\"])\n",
    "    return {\"query\": query}\n",
    "\n",
    "\n",
    "def retrieve(state: State):\n",
    "    query = state[\"query\"]\n",
    "    retrieved_docs = vector_store.similarity_search(\n",
    "        query[\"query\"],\n",
    "        filter=lambda doc: doc.metadata.get(\"section\") == query[\"section\"],\n",
    "    )\n",
    "    return {\"context\": retrieved_docs}\n",
    "\n",
    "\n",
    "def generate(state: State):\n",
    "    docs_content = \"\\n\\n\".join(doc.page_content for doc in state[\"context\"])\n",
    "    messages = prompt.invoke({\"question\": state[\"question\"], \"context\": docs_content})\n",
    "    response = llm.invoke(messages)\n",
    "    return {\"answer\": response.content}\n",
    "\n",
    "\n",
    "graph_builder = StateGraph(State).add_sequence([analyze_query, retrieve, generate])\n",
    "graph_builder.add_edge(START, \"analyze_query\")\n",
    "graph = graph_builder.compile()"
   ]
  }
 ],
 "metadata": {
  "kernelspec": {
   "display_name": "Python 3 (ipykernel)",
   "language": "python",
   "name": "python3"
  },
  "language_info": {
   "codemirror_mode": {
    "name": "ipython",
    "version": 3
   },
   "file_extension": ".py",
   "mimetype": "text/x-python",
   "name": "python",
   "nbconvert_exporter": "python",
   "pygments_lexer": "ipython3",
   "version": "3.10.18"
  }
 },
 "nbformat": 4,
 "nbformat_minor": 5
}
